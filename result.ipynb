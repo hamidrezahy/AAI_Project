{
 "cells": [
  {
   "cell_type": "code",
   "execution_count": null,
   "id": "4b683e38",
   "metadata": {},
   "outputs": [],
   "source": [
    "import os\n",
    "#import src.MOBE_Main as MOBE_Main\n",
    "import json\n",
    "import src.methods_evaluation as me\n",
    "import src.experience as exp\n",
    "import src.Feature_selection as fsc\n",
    "import src.MOE_M as moe_run\n",
    "\n",
    "eval_Config_Path = 'Config/models_evaluation.json'\n",
    "fs_Config_Path = 'Config/models_evaluation.json'\n",
    "moe_config_path = 'Config/Bnn_MOE_Config.json'\n",
    "\n",
    "#  Table 2 Output\n",
    "with open(eval_Config_Path) as config_file:\n",
    "    cfg = json.load(config_file)\n",
    "HP = exp.create_experiments()\n",
    "eval_m = me.methods(cfg, HP, 'datapath_processed')\n",
    "eval_m.models_Prepration()\n",
    "\n",
    "eval_m = me.methods(cfg, HP, 'datapath_rowdata')\n",
    "eval_m.models_Prepration()\n",
    "\n",
    "#  Table 3 Output\n",
    "with open(fs_Config_Path) as config_file:\n",
    "     fs_cfg = json.load(config_file)\n",
    "fcf= fsc.feature_selection(fs_cfg, HP)\n",
    "\n",
    "# table 4 --> please convert self.check dictionary to dataframe and save as xslx file \n",
    "\n",
    "#  Table 5 Output\n",
    "#eval_m = me.methods(cfg, HP, 'datapath_RFECV')\n",
    "#eval_m.models_Prepration()\n",
    "\n",
    "#eval_m = me.methods(cfg, HP, 'datapath_XGB')\n",
    "#eval_m.models_Prepration()\n",
    "\n",
    "#  Table 6 is copy of table 5 Output\n",
    "\n",
    "#  Table 9 Output\n",
    "eval_m = me.methods(cfg, HP, 'bigdatapath_processed')\n",
    "eval_m.models_Prepration()\n",
    "\n",
    "#  our proposed methodology Output\n",
    "with open(moe_config_path) as config_file:\n",
    "    cfg = json.load(config_file)\n",
    "HP = exp.create_experiments()\n",
    "\n",
    "eval_m = moe_run.moe(cfg, HP, 'datapath_RFECV')\n",
    "eval_m.models_Prepration()"
   ]
  }
 ],
 "metadata": {
  "kernelspec": {
   "display_name": "Python 3.9.13 64-bit",
   "language": "python",
   "name": "python3"
  },
  "language_info": {
   "codemirror_mode": {
    "name": "ipython",
    "version": 3
   },
   "file_extension": ".py",
   "mimetype": "text/x-python",
   "name": "python",
   "nbconvert_exporter": "python",
   "pygments_lexer": "ipython3",
   "version": "3.9.13"
  },
  "vscode": {
   "interpreter": {
    "hash": "b0fa6594d8f4cbf19f97940f81e996739fb7646882a419484c72d19e05852a7e"
   }
  }
 },
 "nbformat": 4,
 "nbformat_minor": 5
}
