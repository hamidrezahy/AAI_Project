{
  "nbformat": 4,
  "nbformat_minor": 0,
  "metadata": {
    "colab": {
      "name": "Proposed_method_Run.ipynb",
      "provenance": [],
      "collapsed_sections": []
    },
    "kernelspec": {
      "name": "python3",
      "display_name": "Python 3"
    },
    "language_info": {
      "name": "python"
    }
  },
  "cells": [
    {
      "cell_type": "markdown",
      "source": [
        "# RFECV Dataset"
      ],
      "metadata": {
        "id": "6QHK8Gkvh2xg"
      }
    },
    {
      "cell_type": "code",
      "execution_count": null,
      "metadata": {
        "id": "vvhsWwHapeBC"
      },
      "outputs": [],
      "source": [
        "cd /content/drive/MyDrive/HAI"
      ]
    },
    {
      "cell_type": "code",
      "source": [
        "import src.methods_evaluation as me\n",
        "import src.experience as exp\n",
        "import src.MOE_M as moe_run\n",
        "import json\n",
        "from matplotlib import pyplot as plt"
      ],
      "metadata": {
        "id": "z7Z0UCJ4qv6Q"
      },
      "execution_count": 2,
      "outputs": []
    },
    {
      "cell_type": "code",
      "source": [
        ""
      ],
      "metadata": {
        "id": "XRa_xkG0oxZy"
      },
      "execution_count": null,
      "outputs": []
    },
    {
      "cell_type": "code",
      "source": [
        "Config_Path = '/content/drive/MyDrive/HAI/config/Bnn_MOE_Config.json'\n",
        "with open(Config_Path) as config_file:\n",
        "    cfg = json.load(config_file)\n",
        "HP = exp.create_experiments()\n",
        "eval_m = moe_run.moe(cfg, HP, \"datapath_RFECV\")\n",
        "#eval_m.models_Prepration()\n"
      ],
      "metadata": {
        "id": "ZqBCJYlkp6qr"
      },
      "execution_count": null,
      "outputs": []
    },
    {
      "cell_type": "code",
      "source": [
        "history= eval_m.MOE_Run()"
      ],
      "metadata": {
        "id": "tF8orp7Amqvo"
      },
      "execution_count": null,
      "outputs": []
    },
    {
      "cell_type": "code",
      "source": [
        "plt.plot(history.history['accuracy'])\n",
        "plt.plot(history.history['val_accuracy'])\n",
        "plt.title('model accuracy')\n",
        "plt.ylabel('accuracy')\n",
        "plt.xlabel('epoch')\n",
        "plt.legend(['train', 'val'], loc='upper left')\n",
        "plt.show()"
      ],
      "metadata": {
        "id": "wJTL2tylv44B"
      },
      "execution_count": null,
      "outputs": []
    },
    {
      "cell_type": "code",
      "source": [
        "plt.plot(history.history['loss'])\n",
        "plt.plot(history.history['val_loss'])\n",
        "plt.title('model loss')\n",
        "plt.ylabel('loss')\n",
        "plt.xlabel('epoch')\n",
        "plt.legend(['train', 'val'], loc='upper left')\n",
        "plt.show()"
      ],
      "metadata": {
        "id": "2buzxMAC0fbR"
      },
      "execution_count": null,
      "outputs": []
    },
    {
      "cell_type": "markdown",
      "source": [
        "# BigData"
      ],
      "metadata": {
        "id": "qeafFdH-h8Ve"
      }
    },
    {
      "cell_type": "code",
      "execution_count": null,
      "metadata": {
        "id": "jy1-A9tBiSgq"
      },
      "outputs": [],
      "source": [
        "cd /content/drive/MyDrive/HAI"
      ]
    },
    {
      "cell_type": "code",
      "source": [
        "import src.methods_evaluation as me\n",
        "import src.experience as exp\n",
        "import src.MOE_M as moe_run\n",
        "import json\n",
        "from matplotlib import pyplot as plt"
      ],
      "metadata": {
        "id": "OdmlReNliSgs"
      },
      "execution_count": 2,
      "outputs": []
    },
    {
      "cell_type": "code",
      "source": [
        "Config_Path = '/content/drive/MyDrive/HAI/config/Bnn_MOE_Config.json'\n",
        "with open(Config_Path) as config_file:\n",
        "    cfg = json.load(config_file)\n",
        "HP = exp.create_experiments()\n",
        "eval_m = moe_run.moe(cfg, HP, \"bigdatapath_processed\")\n",
        "#eval_m.models_Prepration()\n"
      ],
      "metadata": {
        "id": "r5Jyxen2iSgt"
      },
      "execution_count": null,
      "outputs": []
    },
    {
      "cell_type": "code",
      "source": [
        "history= eval_m.MOE_Run()"
      ],
      "metadata": {
        "id": "zooFnM-IiSgu"
      },
      "execution_count": null,
      "outputs": []
    },
    {
      "cell_type": "code",
      "source": [
        "plt.plot(history.history['accuracy'])\n",
        "plt.plot(history.history['val_accuracy'])\n",
        "plt.title('model accuracy')\n",
        "plt.ylabel('accuracy')\n",
        "plt.xlabel('epoch')\n",
        "plt.legend(['train', 'val'], loc='upper left')\n",
        "plt.show()"
      ],
      "metadata": {
        "id": "rS96e83EiSgv"
      },
      "execution_count": null,
      "outputs": []
    },
    {
      "cell_type": "code",
      "source": [
        "plt.plot(history.history['loss'])\n",
        "plt.plot(history.history['val_loss'])\n",
        "plt.title('model loss')\n",
        "plt.ylabel('loss')\n",
        "plt.xlabel('epoch')\n",
        "plt.legend(['train', 'val'], loc='upper left')\n",
        "plt.show()"
      ],
      "metadata": {
        "id": "t8Oj0KZMiSgw"
      },
      "execution_count": null,
      "outputs": []
    }
  ]
}